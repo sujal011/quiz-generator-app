{
 "cells": [
  {
   "cell_type": "code",
   "execution_count": 1,
   "id": "27abc195-958c-4ccd-83c2-43496ce7092f",
   "metadata": {},
   "outputs": [],
   "source": [
    "from langchain_core.prompts import PromptTemplate\n",
    "from langchain_core.output_parsers import JsonOutputParser\n",
    "from langchain_core.exceptions import OutputParserException\n",
    "# import json\n"
   ]
  },
  {
   "cell_type": "code",
   "execution_count": null,
   "id": "1e8423b5-e732-4444-ab0a-563fa796b804",
   "metadata": {},
   "outputs": [],
   "source": [
    "content = 'JavaScript Strings\\n\\nStrings are for storing text Strings are written with quotes\\n\\nUsing Quotes\\n\\nA JavaScript string is zero or more characters written inside quotes.\\n\\nExample let text = \"John Doe\"; Try it Yourself »\\n\\nYou can use single or double quotes:\\n\\nExample let carName1 = \"Volvo XC60\"; // Double quotes\\n\\nlet carName2 = \\'Volvo XC60\\'; // Single quotes Try it Yourself »\\n\\nNote Strings created with single or double quotes works the same. There is no difference between the two.\\n\\nQuotes Inside Quotes\\n\\nYou can use quotes inside a string, as long as they don\\'t match the quotes surrounding the string:\\n\\nExample let answer1 = \"It\\'s alright\";\\n\\nlet answer2 = \"He is called \\'Johnny\\'\";\\n\\nlet answer3 = \\'He is called \"Johnny\"\\';\\n\\nTry it Yourself »\\n\\nTemplate Strings\\n\\nTemplates were introduced with ES6 (JavaScript 2016).\\n\\nTemplates are strings enclosed in backticks (`This is a template string`).\\n\\nTemplates allow single and double quotes inside a string:\\n\\nExample let text = `He\\'s often called \"Johnny\"`; Try it Yourself »\\n\\nNote Templates are not supported in Internet Explorer.\\n\\nString Length\\n\\nTo find the length of a string, use the built-in length property:\\n\\nExample let text = \"ABCDEFGHIJKLMNOPQRSTUVWXYZ\";\\n\\nlet length = text.length; Try it Yourself »\\n\\nEscape Characters\\n\\nBecause strings must be written within quotes, JavaScript will misunderstand this string:\\n\\nlet text = \"We are the so-called \"Vikings\" from the north.\";\\n\\n\\n\\nThe string will be chopped to \"We are the so-called \".\\n\\nTo solve this problem, you can use an backslash escape character.\\n\\nThe backslash escape character ( \\\\ ) turns special characters into string characters:\\n\\nCode Result Description \\\\\\' \\' Single quote \\\\\" \" Double quote \\\\\\\\ \\\\ Backslash\\n\\nExamples \\\\\" inserts a double quote in a string: let text = \"We are the so-called \\\\\"Vikings\\\\\" from the north.\"; Try it Yourself » \\\\\\' inserts a single quote in a string: let text= \\'It\\\\\\'s alright.\\';\\n\\nTry it Yourself » \\\\\\\\ inserts a backslash in a string: let text = \"The character \\\\\\\\ is called backslash.\";\\n\\nTry it Yourself »\\n\\nSix other escape sequences are valid in JavaScript:\\n\\nCode Result \\\\b Backspace \\\\f Form Feed\\n\\nNew Line \\\\r Carriage Return \\\\t Horizontal Tabulator \\\\v Vertical Tabulator\\n\\nNote The 6 escape characters above were originally designed to control typewriters, teletypes, and fax machines. They do not make any sense in HTML.\\n\\nBreaking Long Lines\\n\\nFor readability, programmers often like to avoid long code lines.\\n\\nA safe way to break up a statement is after an operator:\\n\\nA safe way to break up a string is by using string addition:\\n\\nTemplate Strings\\n\\nTemplates were introduced with ES6 (JavaScript 2016).\\n\\nTemplates are strings enclosed in backticks (`This is a template string`).\\n\\nTemplates allow multiline strings:\\n\\nExample let text =\\n\\n`The quick\\n\\nbrown fox\\n\\njumps over\\n\\nthe lazy dog`;\\n\\nTry it Yourself »\\n\\nNote Templates are not supported in Internet Explorer.\\n\\nJavaScript Strings as Objects\\n\\nNormally, JavaScript strings are primitive values, created from literals:\\n\\nlet x = \"John\";\\n\\n\\n\\nBut strings can also be defined as objects with the keyword new :\\n\\nlet y = new String(\"John\");\\n\\nExample let x = \"John\";\\n\\nlet y = new String(\"John\");\\n\\nTry it Yourself »\\n\\nDo not create Strings objects. The new keyword complicates the code and slows down execution speed. String objects can produce unexpected results:\\n\\nWhen using the == operator, x and y are equal: let x = \"John\";\\n\\nlet y = new String(\"John\"); Try it Yourself »\\n\\nWhen using the === operator, x and y are not equal: let x = \"John\";\\n\\nlet y = new String(\"John\"); Try it Yourself »\\n\\nNote the difference between (x==y) and (x===y) .\\n\\n(x == y) true or false? let x = new String(\"John\");\\n\\nlet y = new String(\"John\"); Try it Yourself »\\n\\n(x === y) true or false? let x = new String(\"John\");\\n\\nlet y = new String(\"John\"); Try it Yourself »\\n\\nComparing two JavaScript objects always returns false.\\n\\nComplete String Reference For a complete String reference, go to our: Complete JavaScript String Reference. The reference contains descriptions and examples of all string properties and methods.'"
   ]
  },
  {
   "cell_type": "code",
   "execution_count": 2,
   "id": "32a85c48",
   "metadata": {},
   "outputs": [],
   "source": [
    "topic = 'next js'\n",
    "questions = []"
   ]
  },
  {
   "cell_type": "code",
   "execution_count": 3,
   "id": "854240e4-232e-43af-9753-24f362be0e2e",
   "metadata": {},
   "outputs": [
    {
     "name": "stdout",
     "output_type": "stream",
     "text": [
      "10\n"
     ]
    }
   ],
   "source": [
    "nums_of_questions = 10\n",
    "print(nums_of_questions)"
   ]
  },
  {
   "cell_type": "code",
   "execution_count": 4,
   "id": "6213fa66-176e-4a5c-9399-72696a124d54",
   "metadata": {},
   "outputs": [],
   "source": [
    "from langchain_groq import ChatGroq"
   ]
  },
  {
   "cell_type": "code",
   "execution_count": 5,
   "id": "de289c0f-68ea-4603-9bad-1c6460d34e04",
   "metadata": {},
   "outputs": [],
   "source": [
    "llm = ChatGroq(\n",
    "    temperature=1,\n",
    "    groq_api_key=\"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\",\n",
    "    model_name=\"llama-3.1-70b-versatile\",\n",
    ")\n",
    "\n",
    "# response = llm.invoke(\"\")"
   ]
  },
  {
   "cell_type": "code",
   "execution_count": null,
   "id": "78c53891",
   "metadata": {},
   "outputs": [],
   "source": [
    "quiz_template = PromptTemplate.from_template(\n",
    "    \"\"\"\n",
    "    ### generate a {number} mcq based quiz on following:\n",
    "    {content} \n",
    "    \n",
    "    \"\"\"\n",
    "    \n",
    ")\n",
    "\n",
    "quiz_chain = quiz_template | llm\n",
    "quiz_result = quiz_chain.invoke({'number':10,'content': content})\n",
    "print(quiz_result.content)"
   ]
  },
  {
   "cell_type": "code",
   "execution_count": null,
   "id": "93f57745",
   "metadata": {},
   "outputs": [],
   "source": []
  },
  {
   "cell_type": "code",
   "execution_count": 6,
   "id": "30360aff",
   "metadata": {},
   "outputs": [
    {
     "name": "stdout",
     "output_type": "stream",
     "text": [
      "```\n",
      "{\n",
      "  \"questions\": [\n",
      "    {\n",
      "      \"question_number\": 1,\n",
      "      \"question\": \"What is Next.js?\",\n",
      "      \"option_a\": \"A JavaScript library for building single-page applications\",\n",
      "      \"option_b\": \"A React framework for building server-rendered applications\",\n",
      "      \"option_c\": \"A Node.js framework for building RESTful APIs\",\n",
      "      \"option_d\": \"A database management system for storing and retrieving data\",\n",
      "      \"answer\": \"option_b\"\n",
      "    },\n",
      "    {\n",
      "      \"question_number\": 2,\n",
      "      \"question\": \"What is the main benefit of using Next.js?\",\n",
      "      \"option_a\": \"Improved performance\",\n",
      "      \"option_b\": \"Server-side rendering\",\n",
      "      \"option_c\": \"Simplified routing\",\n",
      "      \"option_d\": \"Automatic code splitting\",\n",
      "      \"answer\": \"option_b\"\n",
      "    },\n",
      "    {\n",
      "      \"question_number\": 3,\n",
      "      \"question\": \"How do you create a new Next.js project?\",\n",
      "      \"option_a\": \"Using the command `npm init`\",\n",
      "      \"option_b\": \"Using the command `npx create-next-app`\",\n",
      "      \"option_c\": \"Using the command `npm install next`\",\n",
      "      \"option_d\": \"Using the command `yarn add next`\",\n",
      "      \"answer\": \"option_b\"\n",
      "    },\n",
      "    {\n",
      "      \"question_number\": 4,\n",
      "      \"question\": \"What is the purpose of the `getStaticProps` function in Next.js?\",\n",
      "      \"option_a\": \"To pre-render static pages at build time\",\n",
      "      \"option_b\": \"To handle server-side rendering\",\n",
      "      \"option_c\": \"To handle client-side rendering\",\n",
      "      \"option_d\": \"To fetch data from an API\",\n",
      "      \"answer\": \"option_a\"\n",
      "    },\n",
      "    {\n",
      "      \"question_number\": 5,\n",
      "      \"question\": \"How do you handle client-side routing in Next.js?\",\n",
      "      \"option_a\": \"Using the `Link` component from `next/link`\",\n",
      "      \"option_b\": \"Using the `Router` component from `next/router`\",\n",
      "      \"option_c\": \"Using the `History` API from the browser\",\n",
      "      \"option_d\": \"Using a third-party library like React Router\",\n",
      "      \"answer\": \"option_a\"\n",
      "    },\n",
      "    {\n",
      "      \"question_number\": 6,\n",
      "      \"question\": \"What is the purpose of the `useEffect` hook in Next.js?\",\n",
      "      \"option_a\": \"To handle server-side rendering\",\n",
      "      \"option_b\": \"To handle client-side rendering\",\n",
      "      \"option_c\": \"To run side effects like fetching data from an API\",\n",
      "      \"option_d\": \"To handle routing changes\",\n",
      "      \"answer\": \"option_c\"\n",
      "    },\n",
      "    {\n",
      "      \"question_number\": 7,\n",
      "      \"question\": \"How do you handle server-side rendering in Next.js?\",\n",
      "      \"option_a\": \"Using the `getServerSideProps` function\",\n",
      "      \"option_b\": \"Using the `getStaticProps` function\",\n",
      "      \"option_c\": \"Using the `useEffect` hook\",\n",
      "      \"option_d\": \"Using a third-party library like Next.js Server\",\n",
      "      \"answer\": \"option_a\"\n",
      "    },\n",
      "    {\n",
      "      \"question_number\": 8,\n",
      "      \"question\": \"What is the purpose of the `next/link` module in Next.js?\",\n",
      "      \"option_a\": \"To handle client-side routing\",\n",
      "      \"option_b\": \"To handle server-side rendering\",\n",
      "      \"option_c\": \"To pre-render static pages\",\n",
      "      \"option_d\": \"To handle internationalization\",\n",
      "      \"answer\": \"option_a\"\n",
      "    },\n",
      "    {\n",
      "      \"question_number\": 9,\n",
      "      \"question\": \"How do you handle static site generation in Next.js?\",\n",
      "      \"option_a\": \"Using the `getStaticProps` function\",\n",
      "      \"option_b\": \"Using the `getServerSideProps` function\",\n",
      "      \"option_c\": \"Using the `next build` command\",\n",
      "      \"option_d\": \"Using a third-party library like Next.js Static Site Generation\",\n",
      "      \"answer\": \"option_a\"\n",
      "    },\n",
      "    {\n",
      "      \"question_number\": 10,\n",
      "      \"question\": \"What is the purpose of the `next.config.js` file in Next.js?\",\n",
      "      \"option_a\": \"To configure the development environment\",\n",
      "      \"option_b\": \"To configure the production environment\",\n",
      "      \"option_c\": \"To handle server-side rendering\",\n",
      "      \"option_d\": \"To handle client-side rendering\",\n",
      "      \"answer\": \"option_a\"\n",
      "    }\n",
      "  ]\n",
      "}\n",
      "```\n"
     ]
    }
   ],
   "source": [
    "quiz_template = PromptTemplate.from_template(\n",
    "    \"\"\"\n",
    "    generate a {number} numbers of mcq based quiz on {topic} React in JSON format similar to : questions:[{{ question_number, question, option_a,option_b,option_c,option_d, answer }}]\n",
    "    \n",
    "    output should on contain VALID JSON and NO PREAMBLE\n",
    "    \"\"\"\n",
    "    \n",
    ")\n",
    "\n",
    "quiz_chain = quiz_template | llm\n",
    "quiz_result = quiz_chain.invoke({'number':10,'topic': 'next js'})\n",
    "print(quiz_result.content)\n"
   ]
  },
  {
   "cell_type": "code",
   "execution_count": 7,
   "id": "a829b30e",
   "metadata": {},
   "outputs": [],
   "source": [
    "try: \n",
    "    json_parser = JsonOutputParser()\n",
    "    res = json_parser.parse(quiz_result.content)\n",
    "    questions = res['questions']\n",
    "except OutputParserException:\n",
    "    raise OutputParserException(\"Unable to parse\")"
   ]
  },
  {
   "cell_type": "code",
   "execution_count": 8,
   "id": "9321adb5",
   "metadata": {},
   "outputs": [
    {
     "data": {
      "text/plain": [
       "[{'question_number': 1,\n",
       "  'question': 'What is Next.js?',\n",
       "  'option_a': 'A JavaScript library for building single-page applications',\n",
       "  'option_b': 'A React framework for building server-rendered applications',\n",
       "  'option_c': 'A Node.js framework for building RESTful APIs',\n",
       "  'option_d': 'A database management system for storing and retrieving data',\n",
       "  'answer': 'option_b'},\n",
       " {'question_number': 2,\n",
       "  'question': 'What is the main benefit of using Next.js?',\n",
       "  'option_a': 'Improved performance',\n",
       "  'option_b': 'Server-side rendering',\n",
       "  'option_c': 'Simplified routing',\n",
       "  'option_d': 'Automatic code splitting',\n",
       "  'answer': 'option_b'},\n",
       " {'question_number': 3,\n",
       "  'question': 'How do you create a new Next.js project?',\n",
       "  'option_a': 'Using the command `npm init`',\n",
       "  'option_b': 'Using the command `npx create-next-app`',\n",
       "  'option_c': 'Using the command `npm install next`',\n",
       "  'option_d': 'Using the command `yarn add next`',\n",
       "  'answer': 'option_b'},\n",
       " {'question_number': 4,\n",
       "  'question': 'What is the purpose of the `getStaticProps` function in Next.js?',\n",
       "  'option_a': 'To pre-render static pages at build time',\n",
       "  'option_b': 'To handle server-side rendering',\n",
       "  'option_c': 'To handle client-side rendering',\n",
       "  'option_d': 'To fetch data from an API',\n",
       "  'answer': 'option_a'},\n",
       " {'question_number': 5,\n",
       "  'question': 'How do you handle client-side routing in Next.js?',\n",
       "  'option_a': 'Using the `Link` component from `next/link`',\n",
       "  'option_b': 'Using the `Router` component from `next/router`',\n",
       "  'option_c': 'Using the `History` API from the browser',\n",
       "  'option_d': 'Using a third-party library like React Router',\n",
       "  'answer': 'option_a'},\n",
       " {'question_number': 6,\n",
       "  'question': 'What is the purpose of the `useEffect` hook in Next.js?',\n",
       "  'option_a': 'To handle server-side rendering',\n",
       "  'option_b': 'To handle client-side rendering',\n",
       "  'option_c': 'To run side effects like fetching data from an API',\n",
       "  'option_d': 'To handle routing changes',\n",
       "  'answer': 'option_c'},\n",
       " {'question_number': 7,\n",
       "  'question': 'How do you handle server-side rendering in Next.js?',\n",
       "  'option_a': 'Using the `getServerSideProps` function',\n",
       "  'option_b': 'Using the `getStaticProps` function',\n",
       "  'option_c': 'Using the `useEffect` hook',\n",
       "  'option_d': 'Using a third-party library like Next.js Server',\n",
       "  'answer': 'option_a'},\n",
       " {'question_number': 8,\n",
       "  'question': 'What is the purpose of the `next/link` module in Next.js?',\n",
       "  'option_a': 'To handle client-side routing',\n",
       "  'option_b': 'To handle server-side rendering',\n",
       "  'option_c': 'To pre-render static pages',\n",
       "  'option_d': 'To handle internationalization',\n",
       "  'answer': 'option_a'},\n",
       " {'question_number': 9,\n",
       "  'question': 'How do you handle static site generation in Next.js?',\n",
       "  'option_a': 'Using the `getStaticProps` function',\n",
       "  'option_b': 'Using the `getServerSideProps` function',\n",
       "  'option_c': 'Using the `next build` command',\n",
       "  'option_d': 'Using a third-party library like Next.js Static Site Generation',\n",
       "  'answer': 'option_a'},\n",
       " {'question_number': 10,\n",
       "  'question': 'What is the purpose of the `next.config.js` file in Next.js?',\n",
       "  'option_a': 'To configure the development environment',\n",
       "  'option_b': 'To configure the production environment',\n",
       "  'option_c': 'To handle server-side rendering',\n",
       "  'option_d': 'To handle client-side rendering',\n",
       "  'answer': 'option_a'}]"
      ]
     },
     "execution_count": 8,
     "metadata": {},
     "output_type": "execute_result"
    }
   ],
   "source": [
    "questions"
   ]
  },
  {
   "cell_type": "code",
   "execution_count": null,
   "id": "d601387e-9615-4eb8-a8c7-c6afd8587c57",
   "metadata": {},
   "outputs": [],
   "source": [
    "followup_template = PromptTemplate.from_template(\n",
    "    \"\"\"\n",
    "    ### generate mcq based quiz on following:\n",
    "    {content}\n",
    "    \n",
    "    {quiz_result}\n",
    "    \n",
    "    generate {followup num} more questions\n",
    "    \"\"\"\n",
    ")\n",
    "\n",
    "followup_chain = followup_template | llm"
   ]
  },
  {
   "cell_type": "code",
   "execution_count": null,
   "id": "f5d88ac9-ebe7-4136-90b9-766106822ecb",
   "metadata": {},
   "outputs": [],
   "source": [
    "followup_result = followup_chain.invoke({\n",
    "    'content':content,\n",
    "    'quiz_result':quiz_result.content,\n",
    "    'followup num': 5\n",
    "})"
   ]
  },
  {
   "cell_type": "code",
   "execution_count": null,
   "id": "b58b56d5-e397-4d0a-a2ac-fbe798f32d98",
   "metadata": {},
   "outputs": [],
   "source": [
    "print(followup_result.content)"
   ]
  }
 ],
 "metadata": {
  "kernelspec": {
   "display_name": "venv",
   "language": "python",
   "name": "python3"
  },
  "language_info": {
   "codemirror_mode": {
    "name": "ipython",
    "version": 3
   },
   "file_extension": ".py",
   "mimetype": "text/x-python",
   "name": "python",
   "nbconvert_exporter": "python",
   "pygments_lexer": "ipython3",
   "version": "3.12.5"
  }
 },
 "nbformat": 4,
 "nbformat_minor": 5
}
